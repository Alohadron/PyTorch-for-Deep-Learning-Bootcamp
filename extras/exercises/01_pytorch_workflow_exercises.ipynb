{
  "nbformat": 4,
  "nbformat_minor": 0,
  "metadata": {
    "colab": {
      "name": "01_pytorch_workflow_exercises.ipynb",
      "provenance": [],
      "gpuType": "T4",
      "include_colab_link": true
    },
    "kernelspec": {
      "name": "python3",
      "display_name": "Python 3"
    },
    "language_info": {
      "name": "python"
    },
    "accelerator": "GPU"
  },
  "cells": [
    {
      "cell_type": "markdown",
      "metadata": {
        "id": "view-in-github",
        "colab_type": "text"
      },
      "source": [
        "<a href=\"https://colab.research.google.com/github/Alohadron/PyTorch-for-Deep-Learning-Bootcamp/blob/main/extras/exercises/01_pytorch_workflow_exercises.ipynb\" target=\"_parent\"><img src=\"https://colab.research.google.com/assets/colab-badge.svg\" alt=\"Open In Colab\"/></a>"
      ]
    },
    {
      "cell_type": "markdown",
      "source": [
        "# 01. PyTorch Workflow Exercise Template\n",
        "\n",
        "The following is a template for the PyTorch workflow exercises.\n",
        "\n",
        "It's only starter code and it's your job to fill in the blanks.\n",
        "\n",
        "Because of the flexibility of PyTorch, there may be more than one way to answer the question.\n",
        "\n",
        "Don't worry about trying to be *right* just try writing code that suffices the question.\n",
        "\n",
        "You can see one form of [solutions on GitHub](https://github.com/mrdbourke/pytorch-deep-learning/tree/main/extras/solutions) (but try the exercises below yourself first!)."
      ],
      "metadata": {
        "id": "N8LsPXZti9Sw"
      }
    },
    {
      "cell_type": "code",
      "source": [
        "# Import necessary libraries\n",
        "import torch\n",
        "from torch import nn\n",
        "import numpy as np\n",
        "import matplotlib.pyplot as plt\n",
        "from pathlib import Path"
      ],
      "metadata": {
        "id": "Glu2fM4dkNlx"
      },
      "execution_count": 80,
      "outputs": []
    },
    {
      "cell_type": "code",
      "source": [
        "# Setup device-agnostic code\n",
        "device = \"cuda\" if torch.cuda.is_available() else \"cpu\"\n",
        "device"
      ],
      "metadata": {
        "id": "LqKhXY26m31s",
        "outputId": "37e0612c-4d81-47c4-80eb-bf3bbc929ba5",
        "colab": {
          "base_uri": "https://localhost:8080/",
          "height": 36
        }
      },
      "execution_count": 67,
      "outputs": [
        {
          "output_type": "execute_result",
          "data": {
            "text/plain": [
              "'cuda'"
            ],
            "application/vnd.google.colaboratory.intrinsic+json": {
              "type": "string"
            }
          },
          "metadata": {},
          "execution_count": 67
        }
      ]
    },
    {
      "cell_type": "markdown",
      "source": [
        "## 1. Create a straight line dataset using the linear regression formula (`weight * X + bias`).\n",
        "  * Set `weight=0.3` and `bias=0.9` there should be at least 100 datapoints total.\n",
        "  * Split the data into 80% training, 20% testing.\n",
        "  * Plot the training and testing data so it becomes visual.\n",
        "\n",
        "Your output of the below cell should look something like:\n",
        "```\n",
        "Number of X samples: 100\n",
        "Number of y samples: 100\n",
        "First 10 X & y samples:\n",
        "X: tensor([0.0000, 0.0100, 0.0200, 0.0300, 0.0400, 0.0500, 0.0600, 0.0700, 0.0800,\n",
        "        0.0900])\n",
        "y: tensor([0.9000, 0.9030, 0.9060, 0.9090, 0.9120, 0.9150, 0.9180, 0.9210, 0.9240,\n",
        "        0.9270])\n",
        "```\n",
        "\n",
        "Of course the numbers in `X` and `y` may be different but ideally they're created using the linear regression formula."
      ],
      "metadata": {
        "id": "g7HUhxCxjeBx"
      }
    },
    {
      "cell_type": "code",
      "source": [
        "# Create the data parameters\n",
        "weight = 0.3\n",
        "bias = 0.9\n",
        "\n",
        "start = 0\n",
        "end = 1\n",
        "step = 0.01\n",
        "\n",
        "X = torch.arange(start, end, step).unsqueeze(dim=1)\n",
        "y = weight * X + bias\n",
        "\n",
        "# Make X and y using linear regression feature\n",
        "\n",
        "print(f\"Number of X samples: {len(X)}\")\n",
        "print(f\"Number of y samples: {len(y)}\")\n",
        "print(f\"First 10 X & y samples:\\nX: {X[:10]}\\ny: {y[:10]}\")"
      ],
      "metadata": {
        "id": "KbDG5MV7jhvE",
        "outputId": "1933317e-3ab1-4cec-fd82-99942808856a",
        "colab": {
          "base_uri": "https://localhost:8080/"
        }
      },
      "execution_count": 68,
      "outputs": [
        {
          "output_type": "stream",
          "name": "stdout",
          "text": [
            "Number of X samples: 100\n",
            "Number of y samples: 100\n",
            "First 10 X & y samples:\n",
            "X: tensor([[0.0000],\n",
            "        [0.0100],\n",
            "        [0.0200],\n",
            "        [0.0300],\n",
            "        [0.0400],\n",
            "        [0.0500],\n",
            "        [0.0600],\n",
            "        [0.0700],\n",
            "        [0.0800],\n",
            "        [0.0900]])\n",
            "y: tensor([[0.9000],\n",
            "        [0.9030],\n",
            "        [0.9060],\n",
            "        [0.9090],\n",
            "        [0.9120],\n",
            "        [0.9150],\n",
            "        [0.9180],\n",
            "        [0.9210],\n",
            "        [0.9240],\n",
            "        [0.9270]])\n"
          ]
        }
      ]
    },
    {
      "cell_type": "code",
      "source": [
        "# Split the data into training and testing\n",
        "train_split = int(0.8 * len(X))\n",
        "X_train, y_train = X[:train_split], y[:train_split]\n",
        "X_test, y_test = X[train_split:], y[train_split:]\n",
        "\n",
        "len(X_train), len(y_train), len(X_test), len(y_test)"
      ],
      "metadata": {
        "id": "GlwtT1djkmLw",
        "outputId": "a42e2312-ce41-453e-ac81-80ea80d4df2d",
        "colab": {
          "base_uri": "https://localhost:8080/"
        }
      },
      "execution_count": 69,
      "outputs": [
        {
          "output_type": "execute_result",
          "data": {
            "text/plain": [
              "(80, 80, 20, 20)"
            ]
          },
          "metadata": {},
          "execution_count": 69
        }
      ]
    },
    {
      "cell_type": "code",
      "source": [
        "# Plot the training and testing data\n",
        "def plot_predictions(train_data=X_train,\n",
        "                    train_labels=y_train,\n",
        "                    test_data=X_test,\n",
        "                    test_labels=y_test,\n",
        "                    predictions=None):\n",
        "\n",
        "  plt.figure(figsize=(10, 7))\n",
        "\n",
        "  # Visualize training data and testing data\n",
        "  plt.scatter(train_data.cpu(), train_labels.cpu(), c=\"b\", s=4, label=\"Training data\")\n",
        "  plt.scatter(test_data.cpu(), test_labels.cpu(), c=\"g\", s=4, label=\"Testing data\")\n",
        "  if predictions is not None:\n",
        "    plt.scatter(test_data.cpu(), predictions.cpu(), c=\"r\", s=4, label=\"Predictions\")\n",
        "\n",
        "  plt.legend(prop={\"size\": 14})\n",
        "  plt.show()\n",
        "\n",
        "plot_predictions()"
      ],
      "metadata": {
        "id": "29iQZFNhlYJ-",
        "outputId": "783fa8c9-406b-4163-a21b-e48bc48af903",
        "colab": {
          "base_uri": "https://localhost:8080/",
          "height": 599
        }
      },
      "execution_count": 70,
      "outputs": [
        {
          "output_type": "display_data",
          "data": {
            "text/plain": [
              "<Figure size 1000x700 with 1 Axes>"
            ],
            "image/png": "[encoded data removed]"
          },
          "metadata": {}
        }
      ]
    },
    {
      "cell_type": "markdown",
      "source": [
        "## 2. Build a PyTorch model by subclassing `nn.Module`.\n",
        "  * Inside should be a randomly initialized `nn.Parameter()` with `requires_grad=True`, one for `weights` and one for `bias`.\n",
        "  * Implement the `forward()` method to compute the linear regression function you used to create the dataset in 1.\n",
        "  * Once you've constructed the model, make an instance of it and check its `state_dict()`.\n",
        "  * **Note:** If you'd like to use `nn.Linear()` instead of `nn.Parameter()` you can."
      ],
      "metadata": {
        "id": "ImZoe3v8jif8"
      }
    },
    {
      "cell_type": "code",
      "source": [
        "# Create PyTorch linear regression model by subclassing nn.Module\n",
        "class LinearRegression(nn.Module):\n",
        "  def __init__(self):\n",
        "    super().__init__()\n",
        "\n",
        "    self.weight = nn.Parameter(torch.randn(1,\n",
        "                                           dtype=torch.float,\n",
        "                                           requires_grad=True))\n",
        "    self.bias = nn.Parameter(torch.randn(1,\n",
        "                                         dtype=torch.float,\n",
        "                                         requires_grad=True))\n",
        "\n",
        "  def forward(self, x : torch.Tensor) -> torch.Tensor: # x must be torch.Tensor and should return also torch.Tensor\n",
        "      return self.weight * x + self.bias # <- this is the linear regression formula (y = m*x + b)\n",
        "\n",
        "class LinearRegressionV2(nn.Module):\n",
        "  def __init__(self):\n",
        "    super().__init__()\n",
        "\n",
        "    self.linear_layer = nn.Linear(in_features=1,\n",
        "                                  out_features=1)\n",
        "\n",
        "  def forward(self, x : torch.Tensor) -> torch.Tensor:\n",
        "    return self.linear_layer(x)\n",
        "\n",
        "torch.manual_seed(42)\n",
        "model_0 = LinearRegression()\n",
        "model_1 = LinearRegressionV2()\n",
        "\n",
        "model_0.state_dict(), model_1.state_dict()"
      ],
      "metadata": {
        "id": "qzd__Y5rjtB8",
        "outputId": "1312e452-e5bb-4bb1-eb94-1f0507b69bcf",
        "colab": {
          "base_uri": "https://localhost:8080/"
        }
      },
      "execution_count": 71,
      "outputs": [
        {
          "output_type": "execute_result",
          "data": {
            "text/plain": [
              "(OrderedDict([('weight', tensor([0.3367])), ('bias', tensor([0.1288]))]),\n",
              " OrderedDict([('linear_layer.weight', tensor([[-0.2191]])),\n",
              "              ('linear_layer.bias', tensor([0.2018]))]))"
            ]
          },
          "metadata": {},
          "execution_count": 71
        }
      ]
    },
    {
      "cell_type": "code",
      "source": [
        "# Instantiate the model and put it to the target device\n",
        "model_0.to(device)\n",
        "model_1.to(device)\n",
        "next(model_0.parameters()).device, next(model_1.parameters()).device"
      ],
      "metadata": {
        "id": "5LdcDnmOmyQ2",
        "outputId": "14a9a93a-ddb6-44d9-ec6e-2ba18f8b4d81",
        "colab": {
          "base_uri": "https://localhost:8080/"
        }
      },
      "execution_count": 72,
      "outputs": [
        {
          "output_type": "execute_result",
          "data": {
            "text/plain": [
              "(device(type='cuda', index=0), device(type='cuda', index=0))"
            ]
          },
          "metadata": {},
          "execution_count": 72
        }
      ]
    },
    {
      "cell_type": "markdown",
      "source": [
        "## 3. Create a loss function and optimizer using `nn.L1Loss()` and `torch.optim.SGD(params, lr)` respectively.\n",
        "  * Set the learning rate of the optimizer to be 0.01 and the parameters to optimize should be the model parameters from the model you created in 2.\n",
        "  * Write a training loop to perform the appropriate training steps for 300 epochs.\n",
        "  * The training loop should test the model on the test dataset every 20 epochs."
      ],
      "metadata": {
        "id": "G6nYOrJhjtfu"
      }
    },
    {
      "cell_type": "code",
      "source": [
        "# Create the loss function and optimizer\n",
        "loss_fn = nn.L1Loss()\n",
        "optimizer_0 = torch.optim.SGD(params=model_0.parameters(), lr=0.01)\n",
        "optimizer_1 = torch.optim.SGD(params=model_1.parameters(), lr=0.01)"
      ],
      "metadata": {
        "id": "ltvoZ-FWjv1j"
      },
      "execution_count": 73,
      "outputs": []
    },
    {
      "cell_type": "code",
      "source": [
        "# Training loop\n",
        "\n",
        "torch.manual_seed(42) # Without it every training epoch is gonna have defferent starting poit which will result to nothing.\n",
        "\n",
        "# Train model for 300 epochs\n",
        "epochs = 300\n",
        "\n",
        "# Send data to target device\n",
        "X_train = X_train.to(device)\n",
        "y_train = y_train.to(device)\n",
        "X_test = X_test.to(device)\n",
        "y_test = y_test.to(device)\n",
        "\n",
        "for epoch in range(epochs):\n",
        "  ### Training\n",
        "\n",
        "  # Put model in train mode\n",
        "  model_0.train()\n",
        "  model_1.train()\n",
        "\n",
        "  # 1. Forward pass\n",
        "  y_pred_0 = model_0(X_train)\n",
        "  y_pred_1 = model_1(X_train)\n",
        "\n",
        "  # 2. Calculate loss\n",
        "  loss_0 = loss_fn(y_pred_0, y_train)\n",
        "  loss_1 = loss_fn(y_pred_1, y_train)\n",
        "\n",
        "  # 3. Zero gradients\n",
        "  optimizer_0.zero_grad()\n",
        "  optimizer_1.zero_grad()\n",
        "\n",
        "  # 4. Backpropagation\n",
        "  loss_0.backward()\n",
        "  loss_1.backward()\n",
        "\n",
        "  # 5. Step the optimizer\n",
        "  optimizer_0.step()\n",
        "  optimizer_1.step()\n",
        "\n",
        "  ### Perform testing every 20 epochs\n",
        "  if epoch % 20 == 0:\n",
        "\n",
        "    # Put model in evaluation mode and setup inference context\n",
        "    model_0.eval()\n",
        "    model_1.eval()\n",
        "    with torch.inference_mode():\n",
        "      # 1. Forward pass\n",
        "      test_pred_0 = model_0(X_test)\n",
        "      test_pred_1 = model_1(X_test)\n",
        "      # 2. Calculate test loss\n",
        "      test_loss_0 = loss_fn(test_pred_0, y_test)\n",
        "      test_loss_1 = loss_fn(test_pred_1, y_test)\n",
        "      # Print out what's happening\n",
        "      print(f\"Epoch: {epoch} | Train loss_0: {loss_0:.3f} | Test loss_0: {test_loss_0:.3f}\")\n",
        "      print(f\"Epoch: {epoch} | Train loss_1: {loss_1:.3f} | Test loss_1: {test_loss_1:.3f}\")\n",
        "      print(\"--------------------------------------------------------------------------\")"
      ],
      "metadata": {
        "id": "xpE83NvNnkdV",
        "outputId": "29660795-3309-4e42-8907-b7261e4677c6",
        "colab": {
          "base_uri": "https://localhost:8080/"
        }
      },
      "execution_count": 74,
      "outputs": [
        {
          "output_type": "stream",
          "name": "stdout",
          "text": [
            "Epoch: 0 | Train loss_0: 0.757 | Test loss_0: 0.725\n",
            "Epoch: 0 | Train loss_1: 0.903 | Test loss_1: 1.149\n",
            "--------------------------------------------------------------------------\n",
            "Epoch: 20 | Train loss_0: 0.525 | Test loss_0: 0.454\n",
            "Epoch: 20 | Train loss_1: 0.672 | Test loss_1: 0.879\n",
            "--------------------------------------------------------------------------\n",
            "Epoch: 40 | Train loss_0: 0.294 | Test loss_0: 0.183\n",
            "Epoch: 40 | Train loss_1: 0.441 | Test loss_1: 0.608\n",
            "--------------------------------------------------------------------------\n",
            "Epoch: 60 | Train loss_0: 0.077 | Test loss_0: 0.073\n",
            "Epoch: 60 | Train loss_1: 0.210 | Test loss_1: 0.337\n",
            "--------------------------------------------------------------------------\n",
            "Epoch: 80 | Train loss_0: 0.053 | Test loss_0: 0.116\n",
            "Epoch: 80 | Train loss_1: 0.044 | Test loss_1: 0.119\n",
            "--------------------------------------------------------------------------\n",
            "Epoch: 100 | Train loss_0: 0.046 | Test loss_0: 0.105\n",
            "Epoch: 100 | Train loss_1: 0.033 | Test loss_1: 0.077\n",
            "--------------------------------------------------------------------------\n",
            "Epoch: 120 | Train loss_0: 0.039 | Test loss_0: 0.089\n",
            "Epoch: 120 | Train loss_1: 0.026 | Test loss_1: 0.061\n",
            "--------------------------------------------------------------------------\n",
            "Epoch: 140 | Train loss_0: 0.032 | Test loss_0: 0.074\n",
            "Epoch: 140 | Train loss_1: 0.019 | Test loss_1: 0.045\n",
            "--------------------------------------------------------------------------\n",
            "Epoch: 160 | Train loss_0: 0.025 | Test loss_0: 0.058\n",
            "Epoch: 160 | Train loss_1: 0.012 | Test loss_1: 0.028\n",
            "--------------------------------------------------------------------------\n",
            "Epoch: 180 | Train loss_0: 0.018 | Test loss_0: 0.042\n",
            "Epoch: 180 | Train loss_1: 0.006 | Test loss_1: 0.012\n",
            "--------------------------------------------------------------------------\n",
            "Epoch: 200 | Train loss_0: 0.011 | Test loss_0: 0.026\n",
            "Epoch: 200 | Train loss_1: 0.006 | Test loss_1: 0.004\n",
            "--------------------------------------------------------------------------\n",
            "Epoch: 220 | Train loss_0: 0.004 | Test loss_0: 0.009\n",
            "Epoch: 220 | Train loss_1: 0.006 | Test loss_1: 0.004\n",
            "--------------------------------------------------------------------------\n",
            "Epoch: 240 | Train loss_0: 0.004 | Test loss_0: 0.006\n",
            "Epoch: 240 | Train loss_1: 0.006 | Test loss_1: 0.004\n",
            "--------------------------------------------------------------------------\n",
            "Epoch: 260 | Train loss_0: 0.004 | Test loss_0: 0.006\n",
            "Epoch: 260 | Train loss_1: 0.006 | Test loss_1: 0.004\n",
            "--------------------------------------------------------------------------\n",
            "Epoch: 280 | Train loss_0: 0.004 | Test loss_0: 0.006\n",
            "Epoch: 280 | Train loss_1: 0.006 | Test loss_1: 0.004\n",
            "--------------------------------------------------------------------------\n"
          ]
        }
      ]
    },
    {
      "cell_type": "markdown",
      "source": [
        "## 4. Make predictions with the trained model on the test data.\n",
        "  * Visualize these predictions against the original training and testing data (**note:** you may need to make sure the predictions are *not* on the GPU if you want to use non-CUDA-enabled libraries such as matplotlib to plot)."
      ],
      "metadata": {
        "id": "x4j4TM18jwa7"
      }
    },
    {
      "cell_type": "code",
      "source": [
        "# Make predictions with the model\n",
        "model_0.eval()\n",
        "model_1.eval()\n",
        "\n",
        "with torch.inference_mode():\n",
        "      # 1. Forward pass\n",
        "      y_preds_0 = model_0(X_test)\n",
        "      y_preds_1 = model_1(X_test)\n"
      ],
      "metadata": {
        "id": "bbMPK5Qjjyx_"
      },
      "execution_count": 75,
      "outputs": []
    },
    {
      "cell_type": "code",
      "source": [
        "# Plot the predictions (these may need to be on a specific device)\n",
        "plot_predictions(predictions=y_preds_0), plot_predictions(predictions=y_preds_1)"
      ],
      "metadata": {
        "id": "K3BdmQaDpFo8",
        "outputId": "b8967e87-ea45-4e04-a934-e80a0bbe6b71",
        "colab": {
          "base_uri": "https://localhost:8080/",
          "height": 1000
        }
      },
      "execution_count": 76,
      "outputs": [
        {
          "output_type": "display_data",
          "data": {
            "text/plain": [
              "<Figure size 1000x700 with 1 Axes>"
            ],
            "image/png": "[encoded data removed]"
          },
          "metadata": {}
        },
        {
          "output_type": "display_data",
          "data": {
            "text/plain": [
              "<Figure size 1000x700 with 1 Axes>"
            ],
            "image/png": "[encoded data removed]"
          },
          "metadata": {}
        },
        {
          "output_type": "execute_result",
          "data": {
            "text/plain": [
              "(None, None)"
            ]
          },
          "metadata": {},
          "execution_count": 76
        }
      ]
    },
    {
      "cell_type": "markdown",
      "source": [
        "## 5. Save your trained model's `state_dict()` to file.\n",
        "  * Create a new instance of your model class you made in 2. and load in the `state_dict()` you just saved to it.\n",
        "  * Perform predictions on your test data with the loaded model and confirm they match the original model predictions from 4."
      ],
      "metadata": {
        "id": "s2OnlMWKjzX8"
      }
    },
    {
      "cell_type": "code",
      "source": [
        "from pathlib import Path\n",
        "\n",
        "# 1. Create models directory\n",
        "MODEL_PATH = Path(\"models\")\n",
        "MODEL_PATH.mkdir(parents=True, exist_ok=True)\n",
        "\n",
        "# 2. Create model save path\n",
        "MODEL_NAME_0 = \"01_pytorch_workflow_model_0.pth\"\n",
        "MODEL_NAME_1 = \"01_pytorch_workflow_model_1.pth\"\n",
        "\n",
        "MODEL_SAVE_PATH_0 = MODEL_PATH / MODEL_NAME_0\n",
        "MODEL_SAVE_PATH_1 = MODEL_PATH / MODEL_NAME_1\n",
        "\n",
        "# 3. Save the model state dict\n",
        "print(\"Saving models\")\n",
        "torch.save(obj=model_0.state_dict(),\n",
        "           f=MODEL_SAVE_PATH_0)\n",
        "torch.save(obj=model_1.state_dict(),\n",
        "           f=MODEL_SAVE_PATH_1)\n",
        "print(\"Models saved\")"
      ],
      "metadata": {
        "id": "hgxhgD14qr-i",
        "outputId": "07e08c3c-be3c-475a-d42c-94a6b22f810c",
        "colab": {
          "base_uri": "https://localhost:8080/"
        }
      },
      "execution_count": 84,
      "outputs": [
        {
          "output_type": "stream",
          "name": "stdout",
          "text": [
            "Saving models\n",
            "Models saved\n"
          ]
        }
      ]
    },
    {
      "cell_type": "code",
      "source": [
        "# Create new instance of model and load saved state dict (make sure to put it on the target device)\n",
        "loaded_model_0 = LinearRegression()\n",
        "loaded_model_1 = LinearRegressionV2()\n",
        "\n",
        "loaded_model_0.load_state_dict(torch.load(MODEL_SAVE_PATH_0))\n",
        "loaded_model_1.load_state_dict(torch.load(MODEL_SAVE_PATH_1))\n",
        "\n",
        "loaded_model_0.to(device)\n",
        "loaded_model_1.to(device)"
      ],
      "metadata": {
        "id": "P9vTgiLRrJ7T",
        "outputId": "f5a4c5db-e342-4192-ecba-f75a0a1d6555",
        "colab": {
          "base_uri": "https://localhost:8080/"
        }
      },
      "execution_count": 93,
      "outputs": [
        {
          "output_type": "stream",
          "name": "stderr",
          "text": [
            "<ipython-input-93-b5cc7a9fbf03>:5: FutureWarning: You are using `torch.load` with `weights_only=False` (the current default value), which uses the default pickle module implicitly. It is possible to construct malicious pickle data which will execute arbitrary code during unpickling (See https://github.com/pytorch/pytorch/blob/main/SECURITY.md#untrusted-models for more details). In a future release, the default value for `weights_only` will be flipped to `True`. This limits the functions that could be executed during unpickling. Arbitrary objects will no longer be allowed to be loaded via this mode unless they are explicitly allowlisted by the user via `torch.serialization.add_safe_globals`. We recommend you start setting `weights_only=True` for any use case where you don't have full control of the loaded file. Please open an issue on GitHub for any issues related to this experimental feature.\n",
            "  loaded_model_0.load_state_dict(torch.load(MODEL_SAVE_PATH_0))\n",
            "<ipython-input-93-b5cc7a9fbf03>:6: FutureWarning: You are using `torch.load` with `weights_only=False` (the current default value), which uses the default pickle module implicitly. It is possible to construct malicious pickle data which will execute arbitrary code during unpickling (See https://github.com/pytorch/pytorch/blob/main/SECURITY.md#untrusted-models for more details). In a future release, the default value for `weights_only` will be flipped to `True`. This limits the functions that could be executed during unpickling. Arbitrary objects will no longer be allowed to be loaded via this mode unless they are explicitly allowlisted by the user via `torch.serialization.add_safe_globals`. We recommend you start setting `weights_only=True` for any use case where you don't have full control of the loaded file. Please open an issue on GitHub for any issues related to this experimental feature.\n",
            "  loaded_model_1.load_state_dict(torch.load(MODEL_SAVE_PATH_1))\n"
          ]
        },
        {
          "output_type": "execute_result",
          "data": {
            "text/plain": [
              "LinearRegressionV2(\n",
              "  (linear_layer): Linear(in_features=1, out_features=1, bias=True)\n",
              ")"
            ]
          },
          "metadata": {},
          "execution_count": 93
        }
      ]
    },
    {
      "cell_type": "code",
      "source": [
        "# Make predictions with loaded model and compare them to the previous\n",
        "loaded_model_0.eval()\n",
        "loaded_model_1.eval()\n",
        "with torch.inference_mode():\n",
        "  loaded_model_0_preds = loaded_model_0(X_test)\n",
        "  loaded_model_1_preds = loaded_model_1(X_test)\n",
        "\n",
        "y_preds_1 == loaded_model_1_preds, y_preds_0 == loaded_model_0_preds"
      ],
      "metadata": {
        "id": "8UGX3VebrVtI",
        "outputId": "9087b229-0266-4112-e385-3f8763b4b897",
        "colab": {
          "base_uri": "https://localhost:8080/"
        }
      },
      "execution_count": 97,
      "outputs": [
        {
          "output_type": "execute_result",
          "data": {
            "text/plain": [
              "(tensor([[True],\n",
              "         [True],\n",
              "         [True],\n",
              "         [True],\n",
              "         [True],\n",
              "         [True],\n",
              "         [True],\n",
              "         [True],\n",
              "         [True],\n",
              "         [True],\n",
              "         [True],\n",
              "         [True],\n",
              "         [True],\n",
              "         [True],\n",
              "         [True],\n",
              "         [True],\n",
              "         [True],\n",
              "         [True],\n",
              "         [True],\n",
              "         [True]], device='cuda:0'),\n",
              " tensor([[True],\n",
              "         [True],\n",
              "         [True],\n",
              "         [True],\n",
              "         [True],\n",
              "         [True],\n",
              "         [True],\n",
              "         [True],\n",
              "         [True],\n",
              "         [True],\n",
              "         [True],\n",
              "         [True],\n",
              "         [True],\n",
              "         [True],\n",
              "         [True],\n",
              "         [True],\n",
              "         [True],\n",
              "         [True],\n",
              "         [True],\n",
              "         [True]], device='cuda:0'))"
            ]
          },
          "metadata": {},
          "execution_count": 97
        }
      ]
    }
  ]
}