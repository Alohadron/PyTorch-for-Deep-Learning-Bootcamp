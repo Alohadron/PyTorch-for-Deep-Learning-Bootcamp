{
  "nbformat": 4,
  "nbformat_minor": 0,
  "metadata": {
    "colab": {
      "provenance": [],
      "authorship_tag": "ABX9TyNlOfeVuLJogkO1x63MI0gw",
      "include_colab_link": true
    },
    "kernelspec": {
      "name": "python3",
      "display_name": "Python 3"
    },
    "language_info": {
      "name": "python"
    }
  },
  "cells": [
    {
      "cell_type": "markdown",
      "metadata": {
        "id": "view-in-github",
        "colab_type": "text"
      },
      "source": [
        "<a href=\"https://colab.research.google.com/github/Alohadron/PyTorch-for-Deep-Learning-Bootcamp/blob/main/extras/self_exercices/NumPy.ipynb\" target=\"_parent\"><img src=\"https://colab.research.google.com/assets/colab-badge.svg\" alt=\"Open In Colab\"/></a>"
      ]
    },
    {
      "cell_type": "markdown",
      "source": [
        "# NumPy (Numerical Python)\n",
        "\n",
        "NumPy is a powerful open-source library for numerical coputing in Python. It provides support for large, multi-dimensional arrays and matrices, along with a collection of mathematical fucntions to operate on these data structures efficiently.\n",
        "\n",
        "### Key Features of NumPy:\n",
        "\n",
        "1. **N-dimensional Array (ndarray)**: NumPy's core feature is its efficient multi-dimensional array object, `ndarray`, which allows for fast array computations.\n",
        "\n",
        "2. **Mathematical Functions**: Includes a wide range of functions for operations such as linear algebra, statistics, Fourier transforms, adn random number generation.\n",
        "\n",
        "3. **Broadcasting**: Enables efficient operations on arrays of different shapes without explicit looping.\n",
        "\n",
        "4. **Vectorization**: Uses optimized C and Fortran code under the hood to execute operations much faster than standart Python loops.\n",
        "\n",
        "5. **Memory Efficiency**: Uses contiguous memory storage, making operations significantly faster than Python lists.\n",
        "\n",
        "6. **Integration**: Works seamlessly with other scientific omputating libraries like SciPy, Pandas, Matplotlib."
      ],
      "metadata": {
        "id": "i99vwzdo7fHJ"
      }
    },
    {
      "cell_type": "code",
      "source": [
        "# Example Usage\n",
        "\n",
        "import numpy as np\n",
        "\n",
        "# Creating an array\n",
        "arr = np.array([1, 2, 3, 4, 5])\n",
        "\n",
        "# Performing mathematical operations\n",
        "print(arr * 2)\n",
        "\n",
        "# Creating a 2D array (matrix)\n",
        "matrix = np.array([[1, 2], [3, 4]])\n",
        "print(np.linalg.inv(matrix)) #  Computes the inverse of a matrix"
      ],
      "metadata": {
        "colab": {
          "base_uri": "https://localhost:8080/"
        },
        "id": "h9BcMFLX-J6C",
        "outputId": "477a280e-ea82-475e-da6d-6b05da70c248"
      },
      "execution_count": 1,
      "outputs": [
        {
          "output_type": "stream",
          "name": "stdout",
          "text": [
            "[ 2  4  6  8 10]\n",
            "[[-2.   1. ]\n",
            " [ 1.5 -0.5]]\n"
          ]
        }
      ]
    },
    {
      "cell_type": "markdown",
      "source": [
        "## Basic steps"
      ],
      "metadata": {
        "id": "ZQGvlH7F-Vcb"
      }
    },
    {
      "cell_type": "code",
      "source": [
        "# Step 1: Installation\n",
        "\n",
        "!pip install numpy"
      ],
      "metadata": {
        "colab": {
          "base_uri": "https://localhost:8080/"
        },
        "id": "TvdFrrFdARsl",
        "outputId": "217f9af3-9d52-45e4-f4f0-8de205771789"
      },
      "execution_count": 2,
      "outputs": [
        {
          "output_type": "stream",
          "name": "stdout",
          "text": [
            "Requirement already satisfied: numpy in /usr/local/lib/python3.11/dist-packages (1.26.4)\n"
          ]
        }
      ]
    },
    {
      "cell_type": "code",
      "source": [
        "# Step 2: Understanding NumPy Arrays\n",
        "# NumPy provides `ndarray`, a powerful multi-dimensional array object.\n",
        "\n",
        "import numpy as np\n",
        "\n",
        "# 1D Array\n",
        "arr1 = np.array([1, 2, 3, 4, 5])\n",
        "\n",
        "# 2D Array (Matrix)\n",
        "arr2 = np.array([[1, 2, 3], [4, 5, 6]])\n",
        "\n",
        "# 3D Array (Tensor)\n",
        "arr3 = np.array([[[1, 2, 3], [4, 5, 6], [7, 8, 9]]])\n",
        "\n",
        "print(arr1.shape)\n",
        "print(arr2.shape)\n",
        "print(arr3.shape)"
      ],
      "metadata": {
        "colab": {
          "base_uri": "https://localhost:8080/"
        },
        "id": "NBUMJgA_Abr7",
        "outputId": "fef94823-008c-4164-f195-94740f95c5e7"
      },
      "execution_count": 3,
      "outputs": [
        {
          "output_type": "stream",
          "name": "stdout",
          "text": [
            "(5,)\n",
            "(2, 3)\n",
            "(1, 3, 3)\n"
          ]
        }
      ]
    },
    {
      "cell_type": "code",
      "source": [
        "# Step 3: Array Operations\n",
        "# You can preform element-wise operations without loops.\n",
        "\n",
        "a = np.array([1, 2, 3])\n",
        "b = np.array([4, 5, 6])\n",
        "\n",
        "print(a + b)\n",
        "print(a * b)\n",
        "print(a ** 2)"
      ],
      "metadata": {
        "colab": {
          "base_uri": "https://localhost:8080/"
        },
        "id": "lMAwzXY2CpMT",
        "outputId": "9aecae5d-64f8-43db-9050-c0445c946254"
      },
      "execution_count": 4,
      "outputs": [
        {
          "output_type": "stream",
          "name": "stdout",
          "text": [
            "[5 7 9]\n",
            "[ 4 10 18]\n",
            "[1 4 9]\n"
          ]
        }
      ]
    },
    {
      "cell_type": "code",
      "source": [
        "# Step 4: Indexing & Slicig\n",
        "# NumPy allows advanced indexing.\n",
        "\n",
        "arr = np.array([[10, 20, 30], [40, 50, 60]])\n",
        "\n",
        "print(arr[0, 1])\n",
        "print(arr[:, 2]) # column\n",
        "print(arr[0, :]) # row"
      ],
      "metadata": {
        "colab": {
          "base_uri": "https://localhost:8080/"
        },
        "id": "6HBequpqDFkT",
        "outputId": "5e83f3f3-2735-458e-e442-8e30971976d0"
      },
      "execution_count": 5,
      "outputs": [
        {
          "output_type": "stream",
          "name": "stdout",
          "text": [
            "20\n",
            "[30 60]\n",
            "[10 20 30]\n"
          ]
        }
      ]
    },
    {
      "cell_type": "code",
      "source": [
        "# Step 5: Useful NumPy Functions\n",
        "\n",
        "# Generating Arrays\n",
        "np.zeros((3, 3)) # 3x3 matrix filled with 0s\n",
        "np.ones((2, 4)) # 2x4 matrix filled with 1s\n",
        "np.arange(1, 10, 2) # [1, 3, 5, 7, 9]\n",
        "np.linspace(0, 1, 5) # [0., 0.25, 0.5, 0.75, 1.]\n",
        "np.random.rand(3, 3) # 3x3 random numbers between 0 and 1\n",
        "\n",
        "# Mathematical Functions\n",
        "arr = np.array([1, 2, 3, 4])\n",
        "print(np.sum(arr))\n",
        "print(np.mean(arr))\n",
        "print(np.std(arr)) # standart deviation"
      ],
      "metadata": {
        "id": "YFTt0WNGE_Hi",
        "colab": {
          "base_uri": "https://localhost:8080/"
        },
        "outputId": "c8fd4e8f-4e90-41cb-8696-57de002f2d13"
      },
      "execution_count": 6,
      "outputs": [
        {
          "output_type": "stream",
          "name": "stdout",
          "text": [
            "10\n",
            "2.5\n",
            "1.118033988749895\n"
          ]
        }
      ]
    },
    {
      "cell_type": "code",
      "source": [
        "# Step 6: Linear Algebra with NumPy\n",
        "# NumPy has a build-in `linalg` module for linear algebra operations.\n",
        "\n",
        "matrix = np.array([[2, 3], [1, 4]])\n",
        "inverse = np.linalg.inv(matrix) # Inverce of a matrix\n",
        "determinant = np.linalg.det(matrix) # Determinant\n",
        "eigenvalues, eigenvectors = np.linalg.eig(matrix) # Eigenvalues & eigenvectors\n",
        "\n",
        "print(f\"Matrix: {matrix}\")\n",
        "print(f\"\\nInverse of the: {inverse}\")\n",
        "print(f\"\\nDeterminant: {determinant}\")\n",
        "print(f\"\\nEigenvalues: {eigenvalues}, Eigenvectors: {eigenvectors}\")"
      ],
      "metadata": {
        "colab": {
          "base_uri": "https://localhost:8080/"
        },
        "id": "C6dTsMYuH7DO",
        "outputId": "509e2679-b502-4f2a-ca0b-eba10aace3bb"
      },
      "execution_count": 7,
      "outputs": [
        {
          "output_type": "stream",
          "name": "stdout",
          "text": [
            "Matrix: [[2 3]\n",
            " [1 4]]\n",
            "\n",
            "Inverse of the: [[ 0.8 -0.6]\n",
            " [-0.2  0.4]]\n",
            "\n",
            "Determinant: 5.000000000000001\n",
            "\n",
            "Eigenvalues: [1. 5.], Eigenvectors: [[-0.9486833  -0.70710678]\n",
            " [ 0.31622777 -0.70710678]]\n"
          ]
        }
      ]
    },
    {
      "cell_type": "code",
      "source": [
        "# Step 7: Reshaping & Broadcasting\n",
        "# NumPy allows reshaping and broadcasting operations.\n",
        "\n",
        "arr = np.array([1, 2, 3, 4, 5, 6])\n",
        "print(f\"Original: {arr}\")\n",
        "reshaped = arr.reshape((2, 3)) # Converts to 2x3 matrix\n",
        "print(f\"Reshaped: {reshaped}\")\n",
        "\n",
        "a = np.array(([1], [2], [3])) # Shape (3,1)\n",
        "b = np.array([4, 5, 6]) # Shape (1,3)\n",
        "print(f\"\\na + b = \\n{a + b}\") # Broadcasting (adds rach row to b)"
      ],
      "metadata": {
        "colab": {
          "base_uri": "https://localhost:8080/"
        },
        "id": "OPTK_ddLVTbh",
        "outputId": "c7c7e0ef-4b24-4748-de4f-bdb3f0405bca"
      },
      "execution_count": 8,
      "outputs": [
        {
          "output_type": "stream",
          "name": "stdout",
          "text": [
            "Original: [1 2 3 4 5 6]\n",
            "Reshaped: [[1 2 3]\n",
            " [4 5 6]]\n",
            "\n",
            "a + b = \n",
            "[[5 6 7]\n",
            " [6 7 8]\n",
            " [7 8 9]]\n"
          ]
        }
      ]
    },
    {
      "cell_type": "code",
      "source": [
        "# Step 8: Speed & Performance Optimiztion\n",
        "# NumPy is much faster than Python lists due to vectorization.\n",
        "\n",
        "#Using `timeit` to compare speed\n",
        "import timeit\n",
        "\n",
        "# Python list\n",
        "python_time = timeit.timeit(stmt=\"[x**2 for x in range(1000)]\", number=1000)\n",
        "\n",
        "# NumPy Array\n",
        "numpy_time = timeit.timeit(stmt=\"np.arange(1000)**2\", setup=\"import numpy as np\", number=1000)\n",
        "\n",
        "print(f\"Python List Time: {python_time:.5f}\")\n",
        "print(f\"NumPy Time: {numpy_time:.5f}\")"
      ],
      "metadata": {
        "colab": {
          "base_uri": "https://localhost:8080/"
        },
        "id": "gCIZ1WxtbrgZ",
        "outputId": "00769592-3fba-4f6b-afe0-e110458d646b"
      },
      "execution_count": 9,
      "outputs": [
        {
          "output_type": "stream",
          "name": "stdout",
          "text": [
            "Python List Time: 0.24407\n",
            "NumPy Time: 0.00459\n"
          ]
        }
      ]
    },
    {
      "cell_type": "markdown",
      "source": [
        "## Practice! Try solving small challenges using NumPy."
      ],
      "metadata": {
        "id": "kputlIm6df-j"
      }
    },
    {
      "cell_type": "code",
      "source": [
        "# Challenge 1: Create a 5×5 matrix filled with zeros, except for the border, which should be filled with ones.\n",
        "\n",
        "# Expected Output:\n",
        "#[[1. 1. 1. 1. 1.]\n",
        " #[1. 0. 0. 0. 1.]\n",
        " #[1. 0. 0. 0. 1.]\n",
        " #[1. 0. 0. 0. 1.]\n",
        " #[1. 1. 1. 1. 1.]]\n",
        "\n",
        "zeros = np.zeros((5, 5))\n",
        "zeros[:, 0], zeros[:, -1], zeros[0, :], zeros[-1, :] = 1, 1, 1, 1\n",
        "zeros"
      ],
      "metadata": {
        "colab": {
          "base_uri": "https://localhost:8080/"
        },
        "id": "UOwX154VeR33",
        "outputId": "40e66604-bdd8-445d-a756-98543022d4da"
      },
      "execution_count": 10,
      "outputs": [
        {
          "output_type": "execute_result",
          "data": {
            "text/plain": [
              "array([[1., 1., 1., 1., 1.],\n",
              "       [1., 0., 0., 0., 1.],\n",
              "       [1., 0., 0., 0., 1.],\n",
              "       [1., 0., 0., 0., 1.],\n",
              "       [1., 1., 1., 1., 1.]])"
            ]
          },
          "metadata": {},
          "execution_count": 10
        }
      ]
    },
    {
      "cell_type": "code",
      "source": [
        "# Challenge 2: Create a NumPy array with values from 1 to 10 and reverse it.\n",
        "\n",
        "# Exprected output:\n",
        "#[10  9  8  7  6  5  4  3  2  1]\n",
        "\n",
        "arr = np.arange(1, 11, 1)\n",
        "reversed = arr[::-1]\n",
        "reversed"
      ],
      "metadata": {
        "colab": {
          "base_uri": "https://localhost:8080/"
        },
        "id": "D0zk3McUiS-v",
        "outputId": "30505588-26db-41e4-d0f6-e3a4209bcedd"
      },
      "execution_count": 11,
      "outputs": [
        {
          "output_type": "execute_result",
          "data": {
            "text/plain": [
              "array([10,  9,  8,  7,  6,  5,  4,  3,  2,  1])"
            ]
          },
          "metadata": {},
          "execution_count": 11
        }
      ]
    },
    {
      "cell_type": "code",
      "source": [
        "# Challenge 3: Find the Mean, Median, and Standard Deviation of the given array\n",
        "\n",
        "arr = np.array([5, 10 ,15, 20 ,25])\n",
        "mean = np.mean(arr)\n",
        "median = np.median(arr)\n",
        "std = np.std(arr)\n",
        "\n",
        "print(f\"Mean: {mean}\\n\")\n",
        "print(f\"Median: {median}\\n\")\n",
        "print(f\"Standard Deviation: {std}\")"
      ],
      "metadata": {
        "colab": {
          "base_uri": "https://localhost:8080/"
        },
        "id": "HCKUr3EgmbVx",
        "outputId": "58178c4d-3787-4ade-9e23-ef2b763f8c36"
      },
      "execution_count": 12,
      "outputs": [
        {
          "output_type": "stream",
          "name": "stdout",
          "text": [
            "Mean: 15.0\n",
            "\n",
            "Median: 15.0\n",
            "\n",
            "Standard Deviation: 7.0710678118654755\n"
          ]
        }
      ]
    },
    {
      "cell_type": "code",
      "source": [
        "# Challenge 4: Find Index of Maximum Value\n",
        "# Given an array of random integers, find the index of the maximum value.\n",
        "\n",
        "arr = np.array([12, 45, 67, 89, 23, 56])\n",
        "\n",
        "max_value = np.argmax(arr)\n",
        "max_value"
      ],
      "metadata": {
        "colab": {
          "base_uri": "https://localhost:8080/"
        },
        "id": "JM8O7SD94a1P",
        "outputId": "bf1345c7-9dcb-4265-d66a-100d44ca832c"
      },
      "execution_count": 13,
      "outputs": [
        {
          "output_type": "execute_result",
          "data": {
            "text/plain": [
              "3"
            ]
          },
          "metadata": {},
          "execution_count": 13
        }
      ]
    },
    {
      "cell_type": "code",
      "source": [
        "# Challenge 5: Generate a random matrix\n",
        "# Create a 4x4 matrix with random numbers between 0 and 1.\n",
        "\n",
        "random_matrix = np.random.rand(4, 4)\n",
        "random_matrix"
      ],
      "metadata": {
        "colab": {
          "base_uri": "https://localhost:8080/"
        },
        "id": "66K0D9AcJHp6",
        "outputId": "be7f0f65-4c9f-48d9-89c2-3c2f0553a09c"
      },
      "execution_count": 14,
      "outputs": [
        {
          "output_type": "execute_result",
          "data": {
            "text/plain": [
              "array([[0.33011748, 0.88813676, 0.84197675, 0.03113742],\n",
              "       [0.74640819, 0.56170774, 0.8833394 , 0.31434927],\n",
              "       [0.7340857 , 0.95367675, 0.20052125, 0.73670716],\n",
              "       [0.42868486, 0.88324718, 0.45963101, 0.27657453]])"
            ]
          },
          "metadata": {},
          "execution_count": 14
        }
      ]
    },
    {
      "cell_type": "code",
      "source": [
        "# Challenge 6: Replace all even numbers with -1\n",
        "\n",
        "# Given the array:\n",
        "arr = np.array([1, 2, 3, 4, 5, 6, 7, 8, 9, 10])\n",
        "\n",
        "# Exprected output: [1, -1, 3, -1, 5, -1, 7, -1, 9, -1]\n",
        "arr[arr % 2 == 0] = -1\n",
        "\n",
        "print(arr)"
      ],
      "metadata": {
        "colab": {
          "base_uri": "https://localhost:8080/"
        },
        "id": "uytRBZyyJ7rL",
        "outputId": "45ea6f32-38de-4962-e4be-ec35514db6a3"
      },
      "execution_count": 15,
      "outputs": [
        {
          "output_type": "stream",
          "name": "stdout",
          "text": [
            "[ 1 -1  3 -1  5 -1  7 -1  9 -1]\n"
          ]
        }
      ]
    },
    {
      "cell_type": "code",
      "source": [
        "# Challenge 7: Reshape and Flatten a Matrix\n",
        "# Convert a 1D array of 12 elements into a 3x4 matrix, then flatten it back to 1D.\n",
        "\n",
        "arr = np.arange(12)\n",
        "matrix = np.reshape(arr, (3, 4))\n",
        "flattened = np.ndarray.flatten(matrix)\n",
        "flattened"
      ],
      "metadata": {
        "colab": {
          "base_uri": "https://localhost:8080/"
        },
        "id": "Lo3H73YwZUgD",
        "outputId": "32a6d050-a091-4164-f08b-5932b8d1a35b"
      },
      "execution_count": 16,
      "outputs": [
        {
          "output_type": "execute_result",
          "data": {
            "text/plain": [
              "array([ 0,  1,  2,  3,  4,  5,  6,  7,  8,  9, 10, 11])"
            ]
          },
          "metadata": {},
          "execution_count": 16
        }
      ]
    },
    {
      "cell_type": "code",
      "source": [
        "# Challenge 8: Find unique values in their counts\n",
        "\n",
        "arr = np.array([1, 2, 2, 3, 3, 3, 4, 4, 4, 4])\n",
        "uniques, counts = np.unique(arr, return_counts=True)\n",
        "print(uniques)\n",
        "print(counts)"
      ],
      "metadata": {
        "colab": {
          "base_uri": "https://localhost:8080/"
        },
        "id": "q29g-k-eaIT0",
        "outputId": "d3c63a83-bdf5-4c57-fcd9-85102bafcbbc"
      },
      "execution_count": 17,
      "outputs": [
        {
          "output_type": "stream",
          "name": "stdout",
          "text": [
            "[1 2 3 4]\n",
            "[1 2 3 4]\n"
          ]
        }
      ]
    },
    {
      "cell_type": "code",
      "source": [
        "# Challenge 9: Matrix Multiplication\n",
        "\n",
        "A = np.array([[1, 2], [3, 4]])\n",
        "B = np.array([[5, 6], [7, 8]])\n",
        "\n",
        "C = np.dot(A, B)\n",
        "C"
      ],
      "metadata": {
        "colab": {
          "base_uri": "https://localhost:8080/"
        },
        "id": "MrqEUJ68bvdn",
        "outputId": "b77d1fa0-3a6f-4e59-ffef-adfb444ba0b5"
      },
      "execution_count": 18,
      "outputs": [
        {
          "output_type": "execute_result",
          "data": {
            "text/plain": [
              "array([[19, 22],\n",
              "       [43, 50]])"
            ]
          },
          "metadata": {},
          "execution_count": 18
        }
      ]
    },
    {
      "cell_type": "code",
      "source": [
        "# Challenge 10: Find Missing Values in an Array\n",
        "# Find the indices where the missing values (NaN) occur.\n",
        "\n",
        "arr = np.array([1, 2, np.nan, 4, np.nan, 6])\n",
        "\n",
        "nan_indices = np.where(np.isnan(arr))\n",
        "nan_indices"
      ],
      "metadata": {
        "colab": {
          "base_uri": "https://localhost:8080/"
        },
        "id": "-O9Tcb0vcAq6",
        "outputId": "3f63d28e-a892-4dc2-bf80-8c9c4c499ee7"
      },
      "execution_count": 19,
      "outputs": [
        {
          "output_type": "execute_result",
          "data": {
            "text/plain": [
              "(array([2, 4]),)"
            ]
          },
          "metadata": {},
          "execution_count": 19
        }
      ]
    },
    {
      "cell_type": "code",
      "source": [
        "# Challenge 11: Create a checkboard Pattern\n",
        "# Create an 8x8 NumPy array with a checkerboard pattern of `0s` and `1s`, where `1s` are at even indices\n",
        "\n",
        "# Exprexted output:\n",
        "# [[1 0 1 0 1 0 1 0]\n",
        "#  [0 1 0 1 0 1 0 1]\n",
        "#  [1 0 1 0 1 0 1 0]\n",
        "#  [0 1 0 1 0 1 0 1]\n",
        "#  [1 0 1 0 1 0 1 0]\n",
        "#  [0 1 0 1 0 1 0 1]\n",
        "#  [1 0 1 0 1 0 1 0]\n",
        "#  [0 1 0 1 0 1 0 1]]\n",
        "\n",
        "\n",
        "arr = np.zeros((8, 8), dtype=int)\n",
        "arr[::2, ::2] = 1\n",
        "arr[1::2, 1::2] = 1\n",
        "arr"
      ],
      "metadata": {
        "colab": {
          "base_uri": "https://localhost:8080/"
        },
        "id": "YVW9bWYNdYMY",
        "outputId": "760e90bd-bd49-4069-92a1-8048f420673e"
      },
      "execution_count": 20,
      "outputs": [
        {
          "output_type": "execute_result",
          "data": {
            "text/plain": [
              "array([[1, 0, 1, 0, 1, 0, 1, 0],\n",
              "       [0, 1, 0, 1, 0, 1, 0, 1],\n",
              "       [1, 0, 1, 0, 1, 0, 1, 0],\n",
              "       [0, 1, 0, 1, 0, 1, 0, 1],\n",
              "       [1, 0, 1, 0, 1, 0, 1, 0],\n",
              "       [0, 1, 0, 1, 0, 1, 0, 1],\n",
              "       [1, 0, 1, 0, 1, 0, 1, 0],\n",
              "       [0, 1, 0, 1, 0, 1, 0, 1]])"
            ]
          },
          "metadata": {},
          "execution_count": 20
        }
      ]
    },
    {
      "cell_type": "code",
      "source": [
        "# Challenge 12: Normalize an Array (Feature Scaling)\n",
        "# Given an array of random numbers, normalize it so that all valuea are between 0 and 1.\n",
        "\n",
        "# Set random seed for reproducibility\n",
        "# np.random.seed(42)\n",
        "\n",
        "arr = np.random.randint(1, 101, size=(5, 5))\n",
        "print(\"Original Array:\\n\", arr)\n",
        "\n",
        "# Normalize the array using min-max scalling\n",
        "arr_min = arr.min()\n",
        "arr_max = arr.max()\n",
        "normalized_arr = (arr - arr_min) / (arr_max - arr_min)\n",
        "\n",
        "print(\"\\nNormalized Array:\\n\", np.round(normalized_arr, 2))"
      ],
      "metadata": {
        "id": "KQXbsOz8imI4",
        "colab": {
          "base_uri": "https://localhost:8080/"
        },
        "outputId": "dae9092b-f9b9-4824-9ca9-e083383a559d"
      },
      "execution_count": 44,
      "outputs": [
        {
          "output_type": "stream",
          "name": "stdout",
          "text": [
            "Original Array:\n",
            " [[92 58 55 90 90]\n",
            " [62 23  9 12  1]\n",
            " [58  1 34 96 48]\n",
            " [89  1 16 61 64]\n",
            " [63 69 22 93 67]]\n",
            "\n",
            "Normalized Array:\n",
            " [[0.96 0.6  0.57 0.94 0.94]\n",
            " [0.64 0.23 0.08 0.12 0.  ]\n",
            " [0.6  0.   0.35 1.   0.49]\n",
            " [0.93 0.   0.16 0.63 0.66]\n",
            " [0.65 0.72 0.22 0.97 0.69]]\n"
          ]
        }
      ]
    },
    {
      "cell_type": "code",
      "source": [
        "# Challenge 13: Find the most frequent value in an Array\n",
        "# Given an array, find the value that appears most frequently.\n",
        "\n",
        "arr = np.array([1, 1, 0, 2, 2, 3, 3, 3, 4, 4, 4, 4, 2, 2, 2, 2, 5])\n",
        "\n",
        "# Count occurrences of each value\n",
        "counts = np.bincount(arr)\n",
        "print(counts)\n",
        "\n",
        "# Find the value with the highest count\n",
        "most_frequent = np.argmax(counts)\n",
        "\n",
        "print(\"Most frequent value:\", most_frequent)"
      ],
      "metadata": {
        "colab": {
          "base_uri": "https://localhost:8080/"
        },
        "id": "dqhbCc-oGZcU",
        "outputId": "fc741076-9d0d-4913-f7df-e396cfc1e183"
      },
      "execution_count": 52,
      "outputs": [
        {
          "output_type": "stream",
          "name": "stdout",
          "text": [
            "[1 2 6 3 4 1]\n",
            "Most frequent value: 2\n"
          ]
        }
      ]
    },
    {
      "cell_type": "code",
      "source": [
        "# Challenge 14: Create a random integer matrix with a fized seed\n",
        "# Genereate a 5x5 matrix of random integers between 1 and 100, but ensure the random value stay the same every time the code runs.\n",
        "\n",
        "import numpy as np\n",
        "\n",
        "# Set random seed\n",
        "np.random.seed(42)\n",
        "\n",
        "# Generate a 5x5 matrix with random integers between 1 and 100\n",
        "random_matrix = np.random.randint(1, 101, size=(5, 5))\n",
        "\n",
        "print(\"Random Matrix:\\n\", random_matrix)"
      ],
      "metadata": {
        "colab": {
          "base_uri": "https://localhost:8080/"
        },
        "id": "Nh6eCQaTIj-L",
        "outputId": "710a8542-e705-42d4-e0a3-e8cced83f991"
      },
      "execution_count": 55,
      "outputs": [
        {
          "output_type": "stream",
          "name": "stdout",
          "text": [
            "Random Matrix:\n",
            " [[ 52  93  15  72  61]\n",
            " [ 21  83  87  75  75]\n",
            " [ 88 100  24   3  22]\n",
            " [ 53   2  88  30  38]\n",
            " [  2  64  60  21  33]]\n"
          ]
        }
      ]
    },
    {
      "cell_type": "code",
      "source": [
        "# Challenge 15: Extract all odd numbers from an array\n",
        "# Given an array:\n",
        "arr = np.array([1, 2, 3, 4, 5, 6, 7, 8, 9, 10])\n",
        "\n",
        "# Extract all odd numbers without using a loop.\n",
        "odd_numbers = arr[arr % 2 == 1]\n",
        "\n",
        "print(f\"Original array: {arr}\\nOdd numbers: {odd_numbers}\")"
      ],
      "metadata": {
        "colab": {
          "base_uri": "https://localhost:8080/"
        },
        "id": "vUXoYwQ-Iykx",
        "outputId": "3eb2eae0-a82a-432e-8621-3f08f6090d15"
      },
      "execution_count": 56,
      "outputs": [
        {
          "output_type": "stream",
          "name": "stdout",
          "text": [
            "Original array: [ 1  2  3  4  5  6  7  8  9 10]\n",
            "Odd numbers: [1 3 5 7 9]\n"
          ]
        }
      ]
    },
    {
      "cell_type": "code",
      "source": [
        "# Challenge 16: Compute the Euclidian distance between two vectors\n",
        "# Given two NumPy arrays representing points in a 2D space, compute the Euclidean distance between them.\n",
        "\n",
        "point1 = np.array([3, 4])\n",
        "point2 = np.array([7, 1])\n",
        "\n",
        "# Euclidian distance is the straight-line distance between two points in space. It is the most common way to measure distance in geometry.\n",
        "# Euclidian distance formula: d = math.sqrt((x2 - x1)**2 + (y2 - y1)**2)\n",
        "\n",
        "# Where is Euclidian Distance use?\n",
        "# 1. Machine Learning - To measure similarity between data points (e.g., K-Nearest Neighbors)\n",
        "# 2. Computer Vision - To compare image features\n",
        "# 3. Physics & Robotics - For navigation and motion planning.\n",
        "\n",
        "# Solution 1: Using NumPy functions\n",
        "distance = np.linalg.norm(point2 - point1)\n",
        "print(\"NumPy Functions Solution:\", distance)\n",
        "\n",
        "# Solution 2: Using the manual formula\n",
        "manual_distance = np.sqrt(np.sum((point2 - point1) ** 2))\n",
        "print(\"Manual Formula Solution:\", manual_distance)\n",
        "\n"
      ],
      "metadata": {
        "colab": {
          "base_uri": "https://localhost:8080/"
        },
        "id": "ZvlQkBTHJCjB",
        "outputId": "1a9cd101-aa58-4c3b-8412-d137cbbae46e"
      },
      "execution_count": 57,
      "outputs": [
        {
          "output_type": "stream",
          "name": "stdout",
          "text": [
            "NumPy Functions Solution: 5.0\n",
            "Manual Formula Solution: 5.0\n"
          ]
        }
      ]
    },
    {
      "cell_type": "code",
      "source": [
        "# Challenge 17: Replace negative values with zero\n",
        "# Given an array:\n",
        "arr = np.array([-1, 2, -3, 4, -5, 6, -7, 8, 9, -10])\n",
        "\n",
        "arr[arr < 0] = 0\n",
        "print(\"Modified Array:\", arr)"
      ],
      "metadata": {
        "colab": {
          "base_uri": "https://localhost:8080/"
        },
        "id": "Poa_eG36JjnM",
        "outputId": "668f91ad-d900-4559-aea7-de892e5f48fd"
      },
      "execution_count": 58,
      "outputs": [
        {
          "output_type": "stream",
          "name": "stdout",
          "text": [
            "Modified Array: [0 2 0 4 0 6 0 8 9 0]\n"
          ]
        }
      ]
    },
    {
      "cell_type": "code",
      "source": [
        "# Challenge 18: Stack two arrays horizontally and vertically\n",
        "# Given two NumPy arrays:\n",
        "A = np.array([[1, 2], [3, 4]])\n",
        "B = np.array([[5, 6], [7, 8]])\n",
        "\n",
        "# Stack them horizontally to form a `2x4` matrix\n",
        "# Stack them vertically to form a `4x2` matrix\n",
        "\n",
        "# Will do that by using NumPy functions np.hstack() and np.vstack()\n",
        "\n",
        "# Horizontal stack\n",
        "h_stack = np.hstack((A, B))\n",
        "\n",
        "# Vertical stack\n",
        "v_stack = np.vstack((A, B))\n",
        "\n",
        "print(f\"Horizontal stack: \\n{h_stack}\\nVertical stack: \\n{v_stack}\")"
      ],
      "metadata": {
        "colab": {
          "base_uri": "https://localhost:8080/"
        },
        "id": "4ijV1SRwJ6sO",
        "outputId": "4760ce44-002f-4915-d274-8ed26b0ea300"
      },
      "execution_count": 62,
      "outputs": [
        {
          "output_type": "stream",
          "name": "stdout",
          "text": [
            "Horizontal stack: \n",
            "[[1 2 5 6]\n",
            " [3 4 7 8]]\n",
            "Vertical stack: \n",
            "[[1 2]\n",
            " [3 4]\n",
            " [5 6]\n",
            " [7 8]]\n"
          ]
        }
      ]
    },
    {
      "cell_type": "code",
      "source": [
        "# Challenge 19: Create a 3x3 identity matrix without using np.eye()\n",
        "# Normally, you'd use `np.eye(3)`, but try building it manually\n",
        "\n",
        "# Expected output:\n",
        "# [[1. 0. 0.]\n",
        "#  [0. 1. 0.]\n",
        "#  [0. 0. 1.]]\n",
        "\n",
        "# Create a 3x3 matrix filled with zeros\n",
        "prime_matrix = np.zeros((3, 3))\n",
        "\n",
        "# Set the diagonal elements to 1\n",
        "np.fill_diagonal(prime_matrix, 1)\n",
        "\n",
        "prime_matrix"
      ],
      "metadata": {
        "colab": {
          "base_uri": "https://localhost:8080/"
        },
        "id": "8BfNclMNKVeI",
        "outputId": "bfb9370b-4ad5-4511-c297-5c6ff8886340"
      },
      "execution_count": 63,
      "outputs": [
        {
          "output_type": "execute_result",
          "data": {
            "text/plain": [
              "array([[1., 0., 0.],\n",
              "       [0., 1., 0.],\n",
              "       [0., 0., 1.]])"
            ]
          },
          "metadata": {},
          "execution_count": 63
        }
      ]
    },
    {
      "cell_type": "code",
      "source": [
        "# Challenge 20: Find the row with the maximum sum in a matrix\n",
        "# Given a `5x5` matrix of random integers, find the row index that has the highest sum.\n",
        "\n",
        "# Set random seed\n",
        "np.random.seed(42)\n",
        "\n",
        "arr = np.random.randint(1, 50, size=(5, 5))\n",
        "print(\"Matrix:\\n\", arr)\n",
        "\n",
        "# Calculate the sum of each row\n",
        "row_sums = np.sum(arr, axis=1)\n",
        "\n",
        "# Find the index of the row with the maximum sum\n",
        "max_sum_row_index = np.argmax(row_sums)\n",
        "print(\"\\nRow Index with maximum sum: \", max_sum_row_index)"
      ],
      "metadata": {
        "colab": {
          "base_uri": "https://localhost:8080/"
        },
        "id": "pYtAAt_uK_0a",
        "outputId": "49eeb822-3311-48db-abce-3cdbc778de42"
      },
      "execution_count": 72,
      "outputs": [
        {
          "output_type": "stream",
          "name": "stdout",
          "text": [
            "Matrix:\n",
            " [[39 29 15 43  8]\n",
            " [21 39 19 23 11]\n",
            " [11 24 36 40 24]\n",
            " [ 3 22  2 24 44]\n",
            " [30 38  2 21 33]]\n",
            "\n",
            "Row Index with maximum sum:  2\n"
          ]
        }
      ]
    },
    {
      "cell_type": "code",
      "source": [
        "# Challenge 21: Create a spiral matrix\n",
        "# Given `n = 4`, create the following spiral matrix\n",
        "\n",
        "#  [[ 1  2  3  4]\n",
        "#  [12 13 14  5]\n",
        "#  [11 16 15  6]\n",
        "#  [10  9  8  7]]\n",
        "\n",
        "# To create a spiral matrix , we can simulate the process of filling the matrix in a spiral order (left to right, top to bottom, right to left, and bottom to top)\n",
        "# Steps:\n",
        "# 1. Initialize an empty matrix of size `n x n` filled with zeros\n",
        "# 2. Start at the top-left corner and fill the matrix in a spiral order by updating the matrix elements one by one\n",
        "# 3. Keep track of the boundaries (top, bootm, left, right) and progressively shrink them as you fill the matrix\n",
        "\n",
        "import numpy as np\n",
        "\n",
        "def create_spiral_matrix(n):\n",
        "  # 1. Initialize an empty n x n matrix\n",
        "  spiral_matrix = np.zeros((n, n), dtype=int)\n",
        "\n",
        "  # Define the boundaries\n",
        "  top, bottom, left, right = 0, n - 1, 0, n - 1\n",
        "\n",
        "  num = 1\n",
        "  while top <= bottom and left <= right:\n",
        "    # Fill top row (left to right)\n",
        "    for i in range(left, right + 1):\n",
        "      spiral_matrix[top][i] = num\n",
        "      num += 1\n",
        "    top += 1\n",
        "\n",
        "    # Fill right column (top to bottom)\n",
        "    for i in range(top, bottom + 1):\n",
        "      spiral_matrix[i][right] = num\n",
        "      num += 1\n",
        "    right -= 1\n",
        "\n",
        "    # Fill bottom row (right to left)\n",
        "    if top <= bottom:\n",
        "      for i in range(right, left - 1, -1):\n",
        "        spiral_matrix[bottom][i] = num\n",
        "        num += 1\n",
        "      bottom -= 1\n",
        "\n",
        "    # Fill left column (bottom to top)\n",
        "    if left <= right:\n",
        "      for i in range(bottom, top - 1, -1):\n",
        "        spiral_matrix[i][left] = num\n",
        "        num += 1\n",
        "      left += 1\n",
        "\n",
        "  return spiral_matrix\n",
        "\n",
        "n = 5\n",
        "spiral_matrix = create_spiral_matrix(n)\n",
        "spiral_matrix"
      ],
      "metadata": {
        "colab": {
          "base_uri": "https://localhost:8080/"
        },
        "id": "ZH9MhY2rLcRi",
        "outputId": "e026d9a8-4a84-472a-8794-9d89837826b5"
      },
      "execution_count": 75,
      "outputs": [
        {
          "output_type": "execute_result",
          "data": {
            "text/plain": [
              "array([[ 1,  2,  3,  4,  5],\n",
              "       [16, 17, 18, 19,  6],\n",
              "       [15, 24, 25, 20,  7],\n",
              "       [14, 23, 22, 21,  8],\n",
              "       [13, 12, 11, 10,  9]])"
            ]
          },
          "metadata": {},
          "execution_count": 75
        }
      ]
    },
    {
      "cell_type": "code",
      "source": [],
      "metadata": {
        "id": "Yn-NTXmRWbvS"
      },
      "execution_count": null,
      "outputs": []
    }
  ]
}